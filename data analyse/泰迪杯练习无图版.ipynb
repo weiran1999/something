{
 "cells": [
  {
   "cell_type": "code",
   "execution_count": null,
   "metadata": {},
   "outputs": [],
   "source": [
    "import pandas as pd\n",
    "import matplotlib\n",
    "import matplotlib.pyplot as plt\n",
    "from matplotlib import mlab\n",
    "from matplotlib import rcParams\n",
    "from matplotlib.ticker import FuncFormatter\n",
    "from wordcloud import WordCloud, STOPWORDS, ImageColorGenerator\n",
    "import numpy as np\n",
    "%matplotlib inline"
   ]
  },
  {
   "cell_type": "code",
   "execution_count": null,
   "metadata": {},
   "outputs": [],
   "source": [
    "df = pd.read_csv(\"附件.csv\",encoding=\"gbk\")#一开始可能要用 gbk 后面重新保存为csv，可以用utf-8了\n",
    "print(\"数据总量：%d\" % len(df))\n",
    "df.head()"
   ]
  },
  {
   "cell_type": "code",
   "execution_count": null,
   "metadata": {},
   "outputs": [],
   "source": [
    "# 任务 1.1 对数据作必要的预处理，在报告中列出处理步骤，将处理后的结 果保存为“task1_1.csv”。"
   ]
  },
  {
   "cell_type": "code",
   "execution_count": null,
   "metadata": {},
   "outputs": [],
   "source": [
    "# d = df[df['销售数量'].isnull()] # '销售数量'中的缺失项\n",
    "d = df[df.isnull().values==True] # 所有行中的空值的行\n",
    "d"
   ]
  },
  {
   "cell_type": "code",
   "execution_count": null,
   "metadata": {},
   "outputs": [],
   "source": [
    "# df.dropna()\n",
    "# df = df.drop(df[(df['销售数量']<0.001) | (df['销售数量']>100000)].index) #删除数量不符合常识的数据\n",
    "# df = df[df['销售金额'] == df['销售数量']* df['商品单价']] #销售数量与销售金额之间关系正确的\n",
    "# print(\"数据总量：%d\" % len(df))\n",
    "# df.head()\n",
    "# # r_d.to_csv(\"task1_1.csv\")#保存"
   ]
  },
  {
   "cell_type": "code",
   "execution_count": null,
   "metadata": {},
   "outputs": [],
   "source": [
    "# 任务 1.2 统计每个大类商品的销售金额，将结果保存为“task1_2.csv”。"
   ]
  },
  {
   "cell_type": "code",
   "execution_count": null,
   "metadata": {},
   "outputs": [],
   "source": [
    "d = df.groupby(['大类名称'],as_index=False)['销售金额'].sum() #as_index不让大类名称作为索引\n",
    "d"
   ]
  },
  {
   "cell_type": "code",
   "execution_count": null,
   "metadata": {},
   "outputs": [],
   "source": [
    "# 任务 1.3 统计每个中类商品的促销销售金额和非促销销售金额，将结果保 存为“task1_3.csv”。"
   ]
  },
  {
   "cell_type": "code",
   "execution_count": null,
   "metadata": {},
   "outputs": [],
   "source": [
    "ture_df = df[df['是否促销'] == '是'] \n",
    "false_df = df[df['是否促销'] == '否'] \n",
    "## shoe = t[t['中类名称'] == '拖鞋']\n",
    "ture_df = ture_df.groupby(['中类名称'],as_index = False)['销售金额'].sum()\n",
    "false_df = false_df.groupby(['中类名称'],as_index = False)['销售金额'].sum()\n",
    "print(\"数据总量：%d\" % (len(ture_df) + len(false_df)))\n",
    "\n"
   ]
  },
  {
   "cell_type": "code",
   "execution_count": null,
   "metadata": {},
   "outputs": [],
   "source": [
    "d = pd.merge(ture_df,false_df,on = \"中类名称\") #拼接俩个对象的图\n",
    "d"
   ]
  },
  {
   "cell_type": "code",
   "execution_count": null,
   "metadata": {},
   "outputs": [],
   "source": [
    "# 任务 1.4 统计生鲜类产品和一般产品的每周销售金额，将结果保存为 “task1_4.csv”。"
   ]
  },
  {
   "cell_type": "code",
   "execution_count": null,
   "metadata": {},
   "outputs": [],
   "source": [
    "#销售日期是否连续,并且排除其他类型\n",
    "date = df.groupby(['商品类型','销售月份','销售日期'],as_index=False)['销售金额'].sum()\n",
    "date = date[date['商品类型']!= '联营商品' ]\n",
    "date = date[date['商品类型'] !='12g*8']\n",
    "date"
   ]
  },
  {
   "cell_type": "code",
   "execution_count": null,
   "metadata": {},
   "outputs": [],
   "source": [
    "#一般商品类型\n",
    "normal = date[date['商品类型'] == '一般商品']\n",
    "normal_goods = []\n",
    "count = 0 #索引\n",
    "all_weeks = int(len(normal)/7) + 1 \n",
    "for weeks in range(1,all_weeks + 1): \n",
    "    sum_money = 0\n",
    "    info = {}\n",
    "    for j in range(0,7):\n",
    "        if count < len(normal):\n",
    "            sum_money = sum_money + normal.iloc[count]['销售金额'] #选取date对象的指定数字的行的某个列的值\n",
    "            str_type = normal.iloc[count]['商品类型']\n",
    "            count = count + 1\n",
    "    info['周数'] = weeks \n",
    "    info['商品类型'] = str_type\n",
    "    info['销售金额'] = sum_money\n",
    "    normal_goods.append(info)\n",
    "normal_goods = pd.DataFrame(normal_goods)#生成新的DF对象\n",
    "normal_goods"
   ]
  },
  {
   "cell_type": "code",
   "execution_count": null,
   "metadata": {},
   "outputs": [],
   "source": [
    "#生鲜商品类型\n",
    "alive = date[date['商品类型'] == '生鲜']\n",
    "alive_goods = []\n",
    "count = 0 #索引\n",
    "all_weeks = int(len(alive)/7) + 1 \n",
    "for weeks in range(1,all_weeks + 1): \n",
    "    sum_money = 0\n",
    "    info = {}\n",
    "    for j in range(0,7):\n",
    "        if count < len(alive):\n",
    "            sum_money = sum_money + alive.iloc[count]['销售金额'] #选取date对象的指定数字的行的某个列的值\n",
    "            str_type = alive.iloc[count]['商品类型']\n",
    "            count = count + 1\n",
    "    info['周数'] = weeks \n",
    "    info['商品类型'] = str_type\n",
    "    info['销售金额'] = sum_money\n",
    "    alive_goods.append(info)\n",
    "alive_goods = pd.DataFrame(alive_goods)\n",
    "alive_goods"
   ]
  },
  {
   "cell_type": "code",
   "execution_count": null,
   "metadata": {},
   "outputs": [],
   "source": [
    "d = pd.merge(normal_goods,alive_goods,on = \"周数\")  #拼接\n",
    "#d.to_csv(\"task1_4.csv\")\n",
    "d"
   ]
  },
  {
   "cell_type": "code",
   "execution_count": null,
   "metadata": {},
   "outputs": [],
   "source": [
    "# 任务 1.5 统计每位顾客每月的消费额及消费天数，将结果保存为“task1_5.csv”，并在报告中列出用户编号为 0-10 的结果。 "
   ]
  },
  {
   "cell_type": "code",
   "execution_count": null,
   "metadata": {},
   "outputs": [],
   "source": [
    "person_first = df.groupby(['顾客编号','销售月份','销售日期'],as_index=False)['销售金额'].sum()\n",
    "person_first.rename(columns={'销售金额':'消费额','销售月份':'月份','销售日期':'日期'},inplace=True)#修改DF对象里的列名,True为真正修改\n",
    "person_month = person_first.groupby(['顾客编号','月份'],as_index=False)['消费额'].sum()\n",
    "person_month\n"
   ]
  },
  {
   "cell_type": "code",
   "execution_count": null,
   "metadata": {},
   "outputs": [],
   "source": [
    "dic = { 201501 :'1月', 201502:'2月' , 201503 :'3月' ,201504 :'4月'}\n",
    "#person_month.replace(dic,inplace = True) #True为确定源数据的修改\n",
    "pd.set_option('display.max_columns',20)#后者参数设为None显示所有列\n",
    "pd.set_option('display.max_rows',30)#后者参数设为None显示所有行\n",
    "person_month = person_month[person_month['顾客编号'] < 11]\n",
    "person_month"
   ]
  },
  {
   "cell_type": "code",
   "execution_count": null,
   "metadata": {},
   "outputs": [],
   "source": [
    "person_days = person_first.groupby(['顾客编号','月份'],as_index=False)['日期'].count() #对日期次数进行计数\n",
    "p = person_days[person_days['顾客编号'] < 11]\n",
    "p"
   ]
  },
  {
   "cell_type": "code",
   "execution_count": null,
   "metadata": {},
   "outputs": [],
   "source": [
    "#任务 2.1 绘制生鲜类商品和一般商品每天销售金额的折线图,并分析比较两类产品的销售状况。"
   ]
  },
  {
   "cell_type": "code",
   "execution_count": null,
   "metadata": {},
   "outputs": [],
   "source": [
    "#因为有一天没有卖生鲜，后面画图时无法共用X轴，所以人为添加一个数据\n",
    "for i in range(len(normal['销售日期'])):\n",
    "    if list(alive['销售日期'])[i] != list(normal['销售日期'])[i]:\n",
    "        print(list(normal['销售日期'])[i])\n",
    "        break\n",
    "\n",
    "alive.loc['new'] = ['生鲜','201502','20150229','700.0']#人为添加一个数据"
   ]
  },
  {
   "cell_type": "code",
   "execution_count": null,
   "metadata": {},
   "outputs": [],
   "source": [
    "d= {'商品类型': '生鲜',\n",
    "        '销售月份': '201502',\n",
    "        '销售日期':'20150229',\n",
    "        '销售金额': 0,\n",
    "       \n",
    "        }\n",
    "a= pd.DataFrame.from_dict(d,orient='index').T\n",
    "              \n",
    "# alive=alive.append(a) #运行一次后注释\n",
    "alive[['销售日期']] = alive[['销售日期']].astype(int)\n",
    "alive= alive.sort_values(by=['销售日期'],ascending=True)\n",
    "alive"
   ]
  },
  {
   "cell_type": "code",
   "execution_count": null,
   "metadata": {},
   "outputs": [],
   "source": [
    "normal"
   ]
  },
  {
   "cell_type": "code",
   "execution_count": null,
   "metadata": {},
   "outputs": [],
   "source": [
    "plt.rcParams['font.sans-serif'] = ['STHeiti'] #windows用‘SimHei’字体，mac得用‘STHeiti’\n",
    "#字体报错的具体解决办法 https://blog.csdn.net/alicelmx/article/details/81231803\n",
    "plt.rcParams['axes.unicode_minus'] = False     # 正常显示负号\n",
    "\n",
    "rn = normal['销售日期']#横坐标的内容\n",
    "\n",
    "fig, ax1 = plt.subplots(figsize =(40,15))#生成图的长和宽\n",
    "x = np.arange(len(rn))\n",
    "xticks1 = list(rn)\n",
    "\n",
    "ax1.axes.set_xlabel(\"日期\", fontsize = 35) #设置x\n",
    "ax1.axes.set_ylabel(\"销售金额\",fontsize = 35)  #设置y\n",
    "\n",
    "plt.tick_params(axis = 'both',labelsize = 23) #一些组件的位置参数\n",
    "plt.xticks(1.5 * x,xticks1,rotation = 80)\n",
    "plt.title(\"一般商品和生鲜的每日销售额\",verticalalignment='bottom',fontsize=30) #标签\n",
    "\n",
    "# 折线图\n",
    "z0 = np.array(normal['销售金额'])\n",
    "z1 = np.array(alive['销售金额'])\n",
    "p0 = ax1.plot(x-0.15,z0,c='y',marker='o') #黄色\n",
    "p1 = ax1.plot(x+0.15,z1,c='r',marker='o') #红色\n",
    "\n",
    "\n",
    "plt.legend((p0[0],p1[0]), ('一般商品', '生鲜'),loc = 2,prop = {'size':35}) #增加图例标示\n",
    "\n",
    "# 保存成图片\n",
    "#plt.savefig(\"每日销售金额.png\",format='png', dpi=300)\n",
    "\n",
    "plt.show()"
   ]
  },
  {
   "cell_type": "code",
   "execution_count": null,
   "metadata": {},
   "outputs": [],
   "source": [
    "# 任务 2.2 按月绘制各大类商品销售金额的占比饼图，并分析其销售状况。"
   ]
  },
  {
   "cell_type": "code",
   "execution_count": null,
   "metadata": {},
   "outputs": [],
   "source": [
    "month = []\n",
    "for i in range(0, 4):\n",
    "    month.append(df[df[\"销售月份\"] == (201501 + i)])\n",
    "\n",
    "sum_money = [] #销售金额\n",
    "data = []\n",
    "\n",
    "for i in range(0, 4):\n",
    "    sum_money.append(\n",
    "        pd.pivot_table(data = month[i], index=[\"大类名称\"], values=[\"销售金额\"], fill_value=0, aggfunc=[np.sum, len]))\n",
    "    data.append(pd.DataFrame({\"大类名称\": sum_money[i].index, \"月销售总额\": sum_money[i].iloc[:, 0]}))\n",
    "\n",
    "plt.rcParams['font.sans-serif'] = ['STHeiti']  # 用来正常显示中文标签\n",
    "labels = []\n",
    "sizes = []\n",
    "\n",
    "for i in range(0, 4):\n",
    "    fig = plt.figure(figsize=(20,10)) #画图尺寸\n",
    "    labels.append(list(data[i][\"大类名称\"]))\n",
    "    sizes.append(list(data[i][\"月销售总额\"]))\n",
    "    plt.pie(sizes[i], labels = labels[i],labeldistance = 1.1, autopct = '%1.2f%%', shadow = False, startangle = 90,\n",
    "                pctdistance = 1.0)    #画饼图（数据，数据对应的标签，百分数保留两位小数点）\n",
    "    plt.axis('equal')\n",
    "    plt.title(str(i + 1) + \"月销售金额占比\")\n",
    "    plt.legend()\n",
    "    #fig.savefig(\"大类商品销售额{0}占比图.png\".format(i + 1),format='png',dpi=300)#保存图片\n",
    "    plt.show()"
   ]
  },
  {
   "cell_type": "code",
   "execution_count": null,
   "metadata": {},
   "outputs": [],
   "source": [
    "#任务 2.3 绘制促销商品和非促销商品销售金额的周环比增长率柱状图。（环比增长率，一般是指和上期相比较的增长率。\n",
    "#环比增长率=(本期的某个指标的值-上一期这个指标的值)/上一期这个指标的值*100%。）"
   ]
  },
  {
   "cell_type": "code",
   "execution_count": null,
   "metadata": {},
   "outputs": [],
   "source": [
    "data_csv = df.groupby(['销售月份','销售日期','是否促销'],as_index=False)['销售金额'].sum()\n",
    "day = set(data_csv['销售日期'])\n",
    "yes = []\n",
    "weeks = 0\n",
    "count = 0\n",
    "for i in range(int(len(day)/7)+1): \n",
    "    sum_money = 0\n",
    "    info = {}\n",
    "    for j in range(7):\n",
    "        if count < len(day):\n",
    "            str_type = data_csv.iloc[count]['是否促销']\n",
    "            if str_type=='是':\n",
    "                sum_money = sum_money + data_csv.iloc[count]['销售金额']\n",
    "            count += 1\n",
    "    weeks += 1\n",
    "    info['周数'] = weeks\n",
    "    info['是否促销'] = '是'\n",
    "    info['销售金额'] = sum_money\n",
    "    yes.append(info)\n",
    "\n",
    "df_yes = pd.DataFrame(yes)\n",
    "df_yes"
   ]
  },
  {
   "cell_type": "code",
   "execution_count": null,
   "metadata": {},
   "outputs": [],
   "source": [
    "data_csv = df.groupby(['销售月份','销售日期','是否促销'],as_index=False)['销售金额'].sum()\n",
    "day = set(data_csv['销售日期'])\n",
    "no = []\n",
    "weeks = 0\n",
    "count = 0\n",
    "for i in range(int(len(day)/7)+1): \n",
    "    sum_money = 0\n",
    "    info = {}\n",
    "    for j in range(7):\n",
    "        if count < len(day):\n",
    "            str_type = data_csv.iloc[count]['是否促销']\n",
    "            if str_type == '否':\n",
    "                sum_money = sum_money + data_csv.iloc[count]['销售金额']\n",
    "            count += 1\n",
    "    weeks += 1\n",
    "    info['周数'] = weeks\n",
    "    info['是否促销'] = '否'\n",
    "    info['销售金额'] = sum_money\n",
    "    no.append(info)\n",
    "\n",
    "df_no = pd.DataFrame(no)\n",
    "df_no"
   ]
  },
  {
   "cell_type": "code",
   "execution_count": null,
   "metadata": {},
   "outputs": [],
   "source": [
    "#数据导入折线图前的处理\n",
    "df_yes_data = round(df_yes['销售金额'].pct_change(),3)#pct_change()方法计算当前元素与先前元素之间的百分比变化\n",
    "df_no_data = round(df_no['销售金额'].pct_change(),3)#保留3位小数\n",
    "df_yes_data[0] = 0\n",
    "df_no_data[0] = 0"
   ]
  },
  {
   "cell_type": "code",
   "execution_count": null,
   "metadata": {},
   "outputs": [],
   "source": [
    "plt.rcParams['font.sans-serif'] = ['STHeiti'] # 指定默认字体 \n",
    "plt.rcParams['axes.unicode_minus']= False     # 正常显示负号\n",
    "\n",
    "rn = df_yes['周数']#横坐标的内容\n",
    "vbar1 = df_yes['销售金额']#   2014的条形图的y轴数据,在图上显示时均保留两位\n",
    "vbar2 = df_no['销售金额']#   2015的条形图的y轴数据\n",
    "fig, ax1 = plt.subplots(figsize=(20,8))\n",
    "x = np.arange(len(rn))\n",
    "y = np.array(list(vbar1))\n",
    "w = np.array(list(vbar2))\n",
    "xticks1 = list(rn)\n",
    "\n",
    "ax1.axes.set_xlabel(u\"周数\", fontsize=15)\n",
    "ax1.axes.set_ylabel(u\"销售金额\",fontsize=15)  # 设置x 坐标label\n",
    "\n",
    "#柱状图\n",
    "p1 = plt.bar(x-0.15,y,width = 0.3,align='center',color = 'c',alpha=0.9) #color\n",
    "p2 = plt.bar(x+0.15,w,width = 0.3,align='center',color = 'g',alpha=0.9)\n",
    "\n",
    "plt.tick_params(axis = 'both',labelsize=17)\n",
    "plt.xticks(x,xticks1,size='x-large')\n",
    "plt.title(\"促销/非促销商品周环比增长\",verticalalignment='bottom',fontsize=17)\n",
    "\n",
    "# 折线图\n",
    "ax2 = ax1.twinx()\n",
    "z = np.array(df_yes_data)\n",
    "\n",
    "z1 = np.array(df_no_data)\n",
    "p3 = ax2.plot(x-0.15,z,c='y',marker='o')\n",
    "p4 = ax2.plot(x+0.15,z1,c='r',marker='o')\n",
    "\n",
    "#将坐标轴的值变成百分比\n",
    "def to_percent(temp, position):\n",
    "    return '%.2f'%(100 * temp) + '%'\n",
    "\n",
    "plt.gca().yaxis.set_major_formatter(FuncFormatter(to_percent))\n",
    "\n",
    "#增加图例\n",
    "plt.legend((p1[0], p2[0],p3[0],p4[0]),('促销商品', '非促销商品','促销商品周环比增长','非促销商品周环比增长')\n",
    "           ,loc = 2,prop = {'size':15})\n",
    "\n",
    "#plt.savefig(\"环比.png\",format = 'png',dpi =300)#保存图片\n",
    "plt.show()\n"
   ]
  },
  {
   "cell_type": "code",
   "execution_count": null,
   "metadata": {},
   "outputs": [],
   "source": [
    "# 任务 3.1 根据消费情况，分别为累计消费前 10 的顾客画像。"
   ]
  },
  {
   "cell_type": "code",
   "execution_count": null,
   "metadata": {},
   "outputs": [],
   "source": [
    "consume_top = pd.pivot_table(data = df,index=[\"顾客编号\"],values=[\"销售金额\"],fill_value=0,aggfunc=[np.sum,len])\n",
    "#列出每名顾客的消费总金额与消费次数\n",
    "content = pd.DataFrame({\"消费总额\":consume_top.iloc[:,0]}) #将销售金额切片列出，改为消费总额\n",
    "consume_sort = content.sort_values(by=\"消费总额\",ascending = False) #降序排列\n",
    "consume_top10 = consume_sort.head(10)\n",
    "head_top10 = list(consume_top10.index) # #获取前10编号\n",
    "person_top10=[]\n",
    "#获取这些顾客的消费信息\n",
    "for i in range(0,len(head_top10)):\n",
    "    person_top10.append(df[df[\"顾客编号\"] == head_top10[i]])\n",
    "\n",
    "object_top10 = []\n",
    "object_list = []\n",
    "\n",
    "for i in range(0,len(head_top10)):\n",
    "    object_top10 . append(pd.pivot_table(data = person_top10[i],index=[\"小类名称\"],values=[\"销售金额\"],fill_value=0,aggfunc=[np.sum,len]))\n",
    "    object_list .append(pd.DataFrame({\"消费总额\":object_top10 [ i].iloc[:,0],\"消费数量\":object_top10 [ i].iloc[:,1]}))\n",
    "    print(object_list [i])\n",
    "\n",
    "#画出按照顾客购买物比列的词图\n",
    "\n",
    "\n",
    "plt.rcParams['font.sans-serif'] = ['STHeiti'] #用来正常显示中文标签\n",
    "font  =  r'/System/Library/AssetsV2/com_apple_MobileAsset_Font6/bf625d290b705582d5fd619878281f3325b075d0.asset/AssetData/STHEITI.ttf'\n",
    "wc  =  WordCloud(font_path  = font, #如果是中文必须要添加这个，否则会显示成框框\n",
    "                background_color  =  'white',\n",
    "                max_words  =  200, # 最多显示词数\n",
    "                max_font_size  =  500, # 字体最大值\n",
    "                width = 1000,\n",
    "                height = 800,\n",
    "                )\n",
    "for i in range(0,len(head_top10)):#词云图\n",
    "        wc.generate_from_frequencies(object_list[i][\"消费总额\"])\n",
    "        plt.title(\"顾客\" + str(head_top10[i]) + \"消费种类占比\")\n",
    "        plt.imshow(wc)  #用plt显示图片\n",
    "        plt.axis('off') #不显示坐标轴\n",
    "        plt.savefig(\"{0}顾客消费种类占比.png\".format(head_top10[i]),format='png',dpi = 300)#保存图片,dpi为图片大小参数\n",
    "        plt.show()"
   ]
  },
  {
   "cell_type": "code",
   "execution_count": null,
   "metadata": {},
   "outputs": [],
   "source": [
    "# 任务 3.2 分析各大类商品的销售情况，总结其销售规律。"
   ]
  },
  {
   "cell_type": "code",
   "execution_count": null,
   "metadata": {},
   "outputs": [],
   "source": [
    "plt.rcParams['font.sans-serif'] = ['STHeiti'] #windows用‘SimHei’字体，mac得用‘STHeiti’\n",
    "#字体报错的具体解决办法 https://blog.csdn.net/alicelmx/article/details/81231803\n",
    "plt.rcParams['axes.unicode_minus'] = False     # 正常显示负号\n",
    "\n",
    "rn = normal['销售日期']#横坐标的内容\n",
    "\n",
    "fig, ax1 = plt.subplots(figsize =(40,15))#生成图的长和宽\n",
    "x = np.arange(len(rn))\n",
    "xticks1 = list(rn)\n",
    "\n",
    "ax1.axes.set_xlabel(\"日期\", fontsize = 35) #设置x\n",
    "ax1.axes.set_ylabel(\"销售金额\",fontsize = 35)  #设置y\n",
    "\n",
    "plt.tick_params(axis = 'both',labelsize = 23) #一些组件的位置参数\n",
    "plt.xticks(1.5 * x,xticks1,rotation = 80)\n",
    "plt.title(\"一般商品和生鲜的每日销售额\",verticalalignment='bottom',fontsize=30) #标签\n",
    "\n",
    "# 折线图\n",
    "z0 = np.array(normal['销售金额'])\n",
    "z1 = np.array(alive['销售金额'])\n",
    "p0 = ax1.plot(x-0.15,z0,c='y',marker='o') #黄色\n",
    "p1 = ax1.plot(x+0.15,z1,c='r',marker='o') #红色\n",
    "\n",
    "\n",
    "plt.legend((p0[0],p1[0]), ('一般商品', '生鲜'),loc = 2,prop = {'size':35}) #增加图例标示\n",
    "\n",
    "# 保存成图片\n",
    "#plt.savefig(\"每日销售金额.png\",format='png', dpi=300)\n",
    "\n",
    "plt.show()"
   ]
  },
  {
   "cell_type": "code",
   "execution_count": null,
   "metadata": {},
   "outputs": [],
   "source": [
    "# df  =  pd.DataFrame(df)\n",
    "print(df.columns)\n",
    "data_csv_bigclass  =  df['大类名称']\n",
    "print(data_csv_bigclass)\n",
    "# 通过集合去重获取大类的名称\n",
    "big_class_set  =  list(set(data_csv_bigclass))\n",
    "\n",
    "# 循环分类 总表分割获取各个大类独自对应的内容\n",
    "save_class  =  []\n",
    "for i in range(0, len(big_class_set)):\n",
    "    save_class.append(df[df['大类名称']  ==  big_class_set[i]])\n",
    "data_all_list  =  []\n",
    "merge_data  =  []\n",
    "\n",
    "# 计算各个大类的每日总销售额\n",
    "for i in range(0, len(big_class_set)):  # values = ['销售金额']可以获得当日销售总额\n",
    "    data_all_list.append(\n",
    "        pd.pivot_table(data = save_class[i], index = ['销售日期'], values = ['销售数量'], fill_value = 0, aggfunc = [np.sum, len]))\n",
    "# print(data_all_list)\n",
    "\n",
    "# -----------------------画图-------------------------------\n",
    "plt.rcParams['font.sans-serif']  =  ['STHeiti']  # 用来正常显示中文标签\n",
    "plt.rcParams['axes.unicode_minus']  =  False  # 用来正常显示负号\n",
    "# 循环画图 根据类的个数\n",
    "for i in range(0, len(data_all_list)):\n",
    "    # 日期用sort_value()排序\n",
    "    count_list = []\n",
    "    for j in range(0,len(data_all_list[i].index.sort_values())):\n",
    "        count = data_all_list[i].index.sort_values()[j] # max == 115\n",
    "        count = str(count)\n",
    "        count = count[-3:]\n",
    "        count_list.append(count)#将日期切片为更小的数字，方便在坐标轴上呈现。\n",
    "    plt.subplots(figsize =(50,20))#生成图的长和宽\n",
    "    plt.xlabel('日期',fontsize = 35)\n",
    "    plt.xticks(rotation = 80) #rotation为x轴刻度字体的旋转角度\n",
    "    plt.ylabel('{0}的每日销售数量'.format(big_class_set[i]),fontsize = 35)\n",
    "    plt.title('{0}的销售总数量折线图'.format(big_class_set[i]),fontsize = 35)\n",
    "    plt.tick_params(axis = 'both',labelsize = 23) #一些组件的位置参数\n",
    "    plt.plot(count_list, data_all_list[i].iloc[:, 0], color = 'r', label = big_class_set[i],\n",
    "             linewidth = 1,marker = 'o', markerfacecolor = 'red', markersize = 1)\n",
    "#     plt.savefig(\"{0}.png\".format(big_class_set[i]),format='png',dpi = 300)#保存图片 \n",
    "    #dpi为图像分辨率，\n",
    "#     plt.show()\n",
    "print('--------------------------------------------------------------')\n",
    "# print(count)\n"
   ]
  },
  {
   "cell_type": "code",
   "execution_count": null,
   "metadata": {},
   "outputs": [],
   "source": [
    "# 任务 3.3 分析促销对商品销售的影响，为超市制定销售策略提供建议。"
   ]
  },
  {
   "cell_type": "code",
   "execution_count": null,
   "metadata": {},
   "outputs": [],
   "source": [
    "sale_big_type  =  df[df[\"是否促销\"]  ==  \"是\"]\n",
    "sale  =  pd.pivot_table(data = sale_big_type, index = [\"大类名称\"], values = [\"销售金额\"], fill_value = 0, aggfunc = [np.sum, len])\n",
    "sale_name  =  list(sale.index)\n",
    "print(sale_name)\n",
    "\n",
    "sale_yes  =  []\n",
    "sale_no  =  []\n",
    "yes_money  =  []\n",
    "no_money  =  []\n",
    "for i in range(0, len(sale_name)):\n",
    "    sale_yes.append(df[(df[\"大类名称\"]  ==  sale_name[i]) & (df[\"是否促销\"]  ==  \"是\")])\n",
    "    riqi1  =  len(sale_yes[i][\"销售日期\"].to_list())\n",
    "    yes_money.append(sale_yes[i][\"销售金额\"].sum() / riqi1)\n",
    "\n",
    "    sale_no.append(df[(df[\"大类名称\"]  ==  sale_name[i]) & (df[\"是否促销\"]  ==  \"否\")])\n",
    "    riqi2  =  len(sale_no[i][\"销售日期\"].to_list())\n",
    "    no_money.append(sale_no[i][\"销售金额\"].sum() / riqi2)\n",
    "\n",
    "print(yes_money)\n",
    "print('\\n')\n",
    "print(no_money)\n",
    "\n",
    "# -----------------------画图-------------------------------\n",
    "plt.rcParams['font.sans-serif']  =  ['STHeiti']  # 用来正常显示中文标签\n",
    "plt.rcParams['axes.unicode_minus']  =  False  # 用来正常显示负号\n",
    "\n",
    "bar_width  =  0.4\n",
    "# 将X轴数据改为使用range(len(x_data), 就是0、1、2...\n",
    "plt.bar(sale.index, height = no_money, label = '促销日均销售金额', color = 'indianred', alpha = 0.8, width = bar_width)\n",
    "# 将X轴数据改为使用np.arange(len(x_data))+bar_width,\n",
    "# 就是bar_width、1+bar_width、2+bar_width...这样就和第一个柱状图并列了\n",
    "plt.bar(x = np.arange(0, 10) + bar_width, height = yes_money, label = '非促销日均销售金额', color = 'steelblue', alpha = 0.8,\n",
    "        width = bar_width)\n",
    "\n",
    "# 设置标题\n",
    "plt.title(\"促销日均销售金额和非促销日均销售金额对比\")\n",
    "# 为两条坐标轴设置名称\n",
    "plt.xlabel(\"大类名称\")\n",
    "plt.ylabel(\"日均销售金额\")\n",
    "plt.xlim((-1, 11))\n",
    "\n",
    "# 显示图例\n",
    "plt.legend()\n",
    "plt.show()\n"
   ]
  },
  {
   "cell_type": "code",
   "execution_count": null,
   "metadata": {},
   "outputs": [],
   "source": []
  }
 ],
 "metadata": {
  "kernelspec": {
   "display_name": "Python 3",
   "language": "python",
   "name": "python3"
  },
  "language_info": {
   "codemirror_mode": {
    "name": "ipython",
    "version": 3
   },
   "file_extension": ".py",
   "mimetype": "text/x-python",
   "name": "python",
   "nbconvert_exporter": "python",
   "pygments_lexer": "ipython3",
   "version": "3.7.6"
  },
  "toc": {
   "base_numbering": 1,
   "nav_menu": {},
   "number_sections": true,
   "sideBar": true,
   "skip_h1_title": false,
   "title_cell": "Table of Contents",
   "title_sidebar": "Contents",
   "toc_cell": false,
   "toc_position": {},
   "toc_section_display": true,
   "toc_window_display": false
  }
 },
 "nbformat": 4,
 "nbformat_minor": 2
}
