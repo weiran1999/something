{
 "cells": [
  {
   "cell_type": "code",
   "execution_count": 1,
   "id": "pressing-jersey",
   "metadata": {},
   "outputs": [],
   "source": [
    "import pandas as pd\n",
    "import numpy as np"
   ]
  },
  {
   "cell_type": "code",
   "execution_count": 2,
   "id": "premium-broad",
   "metadata": {},
   "outputs": [],
   "source": [
    "data = pd.DataFrame(pd.read_excel(r'05级11.xlsx'))\n"
   ]
  },
  {
   "cell_type": "code",
   "execution_count": 3,
   "id": "aerial-validity",
   "metadata": {},
   "outputs": [],
   "source": [
    "def filter_term(x): #把学期给拆分出来\n",
    "    return x[1:12] #截取第一到第12位，字符即为学期\n",
    "\n",
    "def Gpa(x): #GPA算法\n",
    "    if x<60:\n",
    "        return 0\n",
    "    else:\n",
    "        return x/10-5"
   ]
  },
  {
   "cell_type": "code",
   "execution_count": 4,
   "id": "focused-present",
   "metadata": {},
   "outputs": [],
   "source": [
    "point = data['ZSCJ'].apply(Gpa) #inser插入GPA。\n",
    "data.insert(data.shape[1],'GPA',point)   \n",
    "term = data['XKKH'].apply(filter_term)\n",
    "data.insert(data.shape[1],'XQ',term) #inser插入学期。shape[1]生成列 ，0则为行\n"
   ]
  },
  {
   "cell_type": "code",
   "execution_count": 5,
   "id": "shared-northeast",
   "metadata": {},
   "outputs": [],
   "source": [
    "df_group = data.groupby(by = 'XM') #提取姓名的种类\n",
    "name_list = list(df_group.groups.keys())\n",
    "df_group = data.groupby(by = 'XQ') #提取学期的种类\n",
    "term_list = list(df_group.groups.keys())\n",
    "\n",
    "data_group = data.groupby(['XM','XQ'])\n"
   ]
  },
  {
   "cell_type": "code",
   "execution_count": 23,
   "id": "entire-teaching",
   "metadata": {},
   "outputs": [],
   "source": [
    "strresult=[]    #以姓名、学期、绩点的方式保存在列表中\n",
    "for name in name_list:\n",
    "    for term in term_list:\n",
    "        group = (name,term)\n",
    "        try:\n",
    "            pers = data_group.get_group(group).reset_index()\n",
    "        except:\n",
    "            continue\n",
    "            #因为数据本身原因，同年级的学生却拥有可能不同学期的课程，时多时少，所以这里用try语句规避报错\n",
    "        pers = pers.loc[pers['GPA']>0]\n",
    "        result=(pers['GPA']*pers['ZSCJ']/(pers['ZSCJ'].sum())).sum() #计算个人绩点（不是加权）\n",
    "        strresult.append([name,term,str(round(result,2))])  #保留两位小数\n",
    "    "
   ]
  },
  {
   "cell_type": "code",
   "execution_count": 24,
   "id": "spare-sympathy",
   "metadata": {},
   "outputs": [],
   "source": [
    "df = pd.DataFrame(strresult,columns=['姓名','学期','绩点'])"
   ]
  },
  {
   "cell_type": "code",
   "execution_count": 25,
   "id": "transsexual-february",
   "metadata": {},
   "outputs": [],
   "source": [
    "df.to_excel('05级每人每学期.xlsx')"
   ]
  },
  {
   "cell_type": "code",
   "execution_count": null,
   "id": "running-headset",
   "metadata": {},
   "outputs": [],
   "source": []
  },
  {
   "cell_type": "code",
   "execution_count": 7,
   "id": "affiliated-bachelor",
   "metadata": {},
   "outputs": [],
   "source": [
    "import pandas as pd\n",
    "import numpy as np\n",
    "\n",
    "def ailun(year):\n",
    "    data = pd.DataFrame(pd.read_excel('/Users/shanshan/Downloads/{}级.xlsx'.format(year)))\n",
    "    def filter_term(x): #把学期给拆分出来\n",
    "        return x[1:10] #截取第一到第12位，字符即为学期,10位即为学年\n",
    "\n",
    "    def Gpa(x): #GPA算法\n",
    "        if x<60:\n",
    "            return 0\n",
    "        else:\n",
    "            return x/10-5\n",
    "\n",
    "    point = data['ZSCJ'].apply(Gpa) #inser插入GPA。\n",
    "    data.insert(data.shape[1],'GPA',point)   \n",
    "    term = data['XKKH'].apply(filter_term)\n",
    "    data.insert(data.shape[1],'XQ',term) #inser插入学期。shape[1]生成列 ，0则为行\n",
    "\n",
    "    df_group = data.groupby(by = 'XM') #提取姓名的种类\n",
    "    name_list = list(df_group.groups.keys())\n",
    "    df_group = data.groupby(by = 'XQ') #提取学期的种类\n",
    "    term_list = list(df_group.groups.keys())\n",
    "\n",
    "    data_group = data.groupby(['XM','XQ'])\n",
    "\n",
    "    strresult=[]    #以姓名、学期、绩点的方式保存在列表中\n",
    "    for name in name_list:\n",
    "        for term in term_list:\n",
    "            group = (name,term)\n",
    "            try:\n",
    "                pers = data_group.get_group(group).reset_index()\n",
    "            except:\n",
    "                continue\n",
    "                #因为数据本身原因，同年级的学生却拥有可能不同学期的课程，时多时少，所以这里用try语句规避报错\n",
    "            pers = pers.loc[pers['GPA']>0]\n",
    "            result=(pers['GPA']*pers['ZSCJ']/(pers['ZSCJ'].sum())).sum() #计算个人绩点（不是加权）\n",
    "            strresult.append([name,term,str(round(result,2))])  #保留两位小数\n",
    "\n",
    "    df = pd.DataFrame(strresult,columns=['姓名','学期','绩点'])\n",
    "    df.to_excel('{}级每人每学年.xlsx'.format(year))\n",
    "    \n",
    "for i in range(10,14):\n",
    "    ailun(i)\n",
    "    "
   ]
  },
  {
   "cell_type": "code",
   "execution_count": null,
   "id": "competitive-crash",
   "metadata": {},
   "outputs": [],
   "source": []
  },
  {
   "cell_type": "code",
   "execution_count": null,
   "id": "canadian-struggle",
   "metadata": {},
   "outputs": [],
   "source": []
  }
 ],
 "metadata": {
  "kernelspec": {
   "display_name": "Python 3",
   "language": "python",
   "name": "python3"
  },
  "language_info": {
   "codemirror_mode": {
    "name": "ipython",
    "version": 3
   },
   "file_extension": ".py",
   "mimetype": "text/x-python",
   "name": "python",
   "nbconvert_exporter": "python",
   "pygments_lexer": "ipython3",
   "version": "3.9.0"
  }
 },
 "nbformat": 4,
 "nbformat_minor": 5
}
